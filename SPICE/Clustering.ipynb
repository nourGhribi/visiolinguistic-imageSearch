{
 "cells": [
  {
   "cell_type": "markdown",
   "id": "3ff6a925-c1f9-474e-b03c-be879558b402",
   "metadata": {},
   "source": [
    "#### Creating the splits"
   ]
  },
  {
   "cell_type": "code",
   "execution_count": null,
   "id": "554d1031-04a6-4ada-b102-079a4b4cabe7",
   "metadata": {},
   "outputs": [],
   "source": [
    "import json\n",
    "SPLIT_DIR =\"../DCNET/dataset/fashioniq/image_splits/\"\n",
    "tees = json.loads(SPLIT_DIR+\"split.toptee.val.json\")"
   ]
  },
  {
   "cell_type": "code",
   "execution_count": null,
   "id": "0e4e45ce-5539-4697-a36f-cd884e794622",
   "metadata": {},
   "outputs": [],
   "source": []
  },
  {
   "cell_type": "markdown",
   "id": "cd76ed24-df65-4dbf-97c2-153379012a2f",
   "metadata": {
    "tags": []
   },
   "source": [
    "# FashionIQ Clustering:"
   ]
  },
  {
   "cell_type": "markdown",
   "id": "0377a509-fb46-4a57-944c-aecc8e7d51d5",
   "metadata": {},
   "source": [
    "We will try to implement SPICE clustering on the FashionIQ data."
   ]
  },
  {
   "cell_type": "code",
   "execution_count": 1,
   "id": "5486891d-dda3-4034-aea1-20f18e12807d",
   "metadata": {},
   "outputs": [],
   "source": [
    "import torch\n",
    "import torch.nn as nn\n",
    "import torch.nn.parallel\n",
    "import torch.backends.cudnn as cudnn\n",
    "import torch.distributed as dist\n",
    "import torch.optim\n",
    "import torch.multiprocessing as mp\n",
    "import torch.utils.data\n",
    "import torch.utils.data.distributed\n",
    "import torchvision.models as models\n",
    "from spice.config import Config\n",
    "from spice.data.build_dataset import build_dataset\n",
    "from spice.model.build_model_sim import build_model_sim\n",
    "from spice.model.sim2sem import Sim2Sem\n",
    "from spice.solver import make_lr_scheduler, make_optimizer\n",
    "from spice.utils.miscellaneous import mkdir, save_config\n",
    "import numpy as np\n",
    "from spice.utils.evaluation import calculate_acc, calculate_nmi, calculate_ari\n",
    "from spice.utils.load_model_weights import load_model_weights\n",
    "from matplotlib.pyplot import imsave\n",
    "from PIL import Image\n",
    "import matplotlib.pyplot as plt\n",
    "import PIL"
   ]
  },
  {
   "cell_type": "code",
   "execution_count": null,
   "id": "a4a6e74f-3750-4164-953f-8a3f52e62544",
   "metadata": {},
   "outputs": [],
   "source": []
  }
 ],
 "metadata": {
  "kernelspec": {
   "display_name": "Python 3 (ipykernel)",
   "language": "python",
   "name": "python3"
  },
  "language_info": {
   "codemirror_mode": {
    "name": "ipython",
    "version": 3
   },
   "file_extension": ".py",
   "mimetype": "text/x-python",
   "name": "python",
   "nbconvert_exporter": "python",
   "pygments_lexer": "ipython3",
   "version": "3.7.7"
  }
 },
 "nbformat": 4,
 "nbformat_minor": 5
}
