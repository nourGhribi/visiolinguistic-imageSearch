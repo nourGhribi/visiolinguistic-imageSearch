{
 "cells": [
  {
   "cell_type": "markdown",
   "id": "dc7513d1-0cbf-4804-a81e-dffd944dd20b",
   "metadata": {},
   "source": [
    "# Keyword extraction for Interactive Image Retrieval"
   ]
  },
  {
   "cell_type": "markdown",
   "id": "6e2afd99-01c8-4bbd-89ee-a26b121c63ee",
   "metadata": {},
   "source": [
    "## KeyBert:"
   ]
  },
  {
   "cell_type": "markdown",
   "id": "5db799b7-d463-4e93-8439-c5b157091b63",
   "metadata": {},
   "source": [
    "[Why keyBert?](https://towardsdatascience.com/keyword-extraction-a-benchmark-of-7-algorithms-in-python-8a905326d93f) \\\n",
    "The previous described method is implement in an API called [KeyBert](https://maartengr.github.io/KeyBERT/). \\\n",
    "A minimal and easy-to-use keyword extraction technique that leverages BERT embeddings to create keywords and keyphrases that are most similar to a document."
   ]
  },
  {
   "cell_type": "markdown",
   "id": "415c1622-b620-42ee-81b4-29a22ec55651",
   "metadata": {},
   "source": [
    "So using the KeyBert model:"
   ]
  },
  {
   "cell_type": "code",
   "execution_count": 1,
   "id": "f48b6a0f-0656-4980-8faf-13cfa063d364",
   "metadata": {},
   "outputs": [],
   "source": [
    "import keybert"
   ]
  },
  {
   "cell_type": "code",
   "execution_count": 2,
   "id": "1aa0cb8a-c2e3-4d54-9b66-09fc04505f0d",
   "metadata": {},
   "outputs": [],
   "source": [
    "from keybert import KeyBERT\n",
    "\n",
    "doc = \"\"\"\n",
    "         Supervised learning is the machine learning task of learning a function that\n",
    "         maps an input to an output based on example input-output pairs. It infers a\n",
    "         function from labeled training data consisting of a set of training examples.\n",
    "         In supervised learning, each example is a pair consisting of an input object\n",
    "         (typically a vector) and a desired output value (also called the supervisory signal). \n",
    "         A supervised learning algorithm analyzes the training data and produces an inferred function, \n",
    "         which can be used for mapping new examples. An optimal scenario will allow for the \n",
    "         algorithm to correctly determine the class labels for unseen instances. This requires \n",
    "         the learning algorithm to generalize from the training data to unseen situations in a \n",
    "         'reasonable' way (see inductive bias).\n",
    "      \"\"\"\n",
    "kw_model = KeyBERT()\n",
    "keywords = kw_model.extract_keywords(doc)"
   ]
  },
  {
   "cell_type": "code",
   "execution_count": 3,
   "id": "365deeee-0cab-4fd9-827a-9a8a79b63868",
   "metadata": {},
   "outputs": [
    {
     "data": {
      "text/plain": [
       "[('supervised', 0.6676),\n",
       " ('labeled', 0.4896),\n",
       " ('learning', 0.4813),\n",
       " ('training', 0.4134),\n",
       " ('labels', 0.3947)]"
      ]
     },
     "execution_count": 3,
     "metadata": {},
     "output_type": "execute_result"
    }
   ],
   "source": [
    "keywords"
   ]
  },
  {
   "cell_type": "code",
   "execution_count": 4,
   "id": "8ae642b1-c256-435a-8d56-5b8ce879d52b",
   "metadata": {},
   "outputs": [
    {
     "data": {
      "text/plain": [
       "[('supervised learning algorithm', 0.6992),\n",
       " ('supervised learning example', 0.6807),\n",
       " ('supervised learning', 0.6779),\n",
       " ('supervised learning machine', 0.6706),\n",
       " ('supervised', 0.6676)]"
      ]
     },
     "execution_count": 4,
     "metadata": {},
     "output_type": "execute_result"
    }
   ],
   "source": [
    "kw_model.extract_keywords(doc, keyphrase_ngram_range=(1, 3), stop_words='english')"
   ]
  },
  {
   "cell_type": "code",
   "execution_count": 5,
   "id": "4e328b7e-1ad6-4d3e-93b6-584bce026540",
   "metadata": {},
   "outputs": [
    {
     "data": {
      "text/html": [
       "<pre style=\"white-space:pre;overflow-x:auto;line-height:normal;font-family:Menlo,'DejaVu Sans Mono',consolas,'Courier New',monospace\"><span style=\"color: #000000; text-decoration-color: #000000; background-color: #ffff00\">Supervised</span> <span style=\"color: #000000; text-decoration-color: #000000; background-color: #ffff00\">learning</span> is the machine <span style=\"color: #000000; text-decoration-color: #000000; background-color: #ffff00\">learning</span> task of <span style=\"color: #000000; text-decoration-color: #000000; background-color: #ffff00\">learning</span> a function that maps an input to\n",
       "an output based on example input-output pairs. It infers a function from <span style=\"color: #000000; text-decoration-color: #000000; background-color: #ffff00\">labeled</span> <span style=\"color: #000000; text-decoration-color: #000000; background-color: #ffff00\">training</span> \n",
       "data consisting of a set of <span style=\"color: #000000; text-decoration-color: #000000; background-color: #ffff00\">training</span> examples. In <span style=\"color: #000000; text-decoration-color: #000000; background-color: #ffff00\">supervised</span> learning, each example is a pair\n",
       "consisting of an input object (typically a vector) and a desired output value (also called \n",
       "the supervisory signal). A <span style=\"color: #000000; text-decoration-color: #000000; background-color: #ffff00\">supervised</span> <span style=\"color: #000000; text-decoration-color: #000000; background-color: #ffff00\">learning</span> algorithm analyzes the <span style=\"color: #000000; text-decoration-color: #000000; background-color: #ffff00\">training</span> data and \n",
       "produces an inferred function, which can be used for mapping new examples. An optimal \n",
       "scenario will allow for the algorithm to correctly determine the class <span style=\"color: #000000; text-decoration-color: #000000; background-color: #ffff00\">labels</span> for unseen \n",
       "instances. This requires the <span style=\"color: #000000; text-decoration-color: #000000; background-color: #ffff00\">learning</span> algorithm to generalize from the <span style=\"color: #000000; text-decoration-color: #000000; background-color: #ffff00\">training</span> data to \n",
       "unseen situations in a 'reasonable' way (see inductive bias).\n",
       "</pre>\n"
      ],
      "text/plain": [
       "\u001b[30;48;2;255;255;0mSupervised\u001b[0m \u001b[30;48;2;255;255;0mlearning\u001b[0m is the machine \u001b[30;48;2;255;255;0mlearning\u001b[0m task of \u001b[30;48;2;255;255;0mlearning\u001b[0m a function that maps an input to\n",
       "an output based on example input-output pairs. It infers a function from \u001b[30;48;2;255;255;0mlabeled\u001b[0m \u001b[30;48;2;255;255;0mtraining\u001b[0m \n",
       "data consisting of a set of \u001b[30;48;2;255;255;0mtraining\u001b[0m examples. In \u001b[30;48;2;255;255;0msupervised\u001b[0m learning, each example is a pair\n",
       "consisting of an input object (typically a vector) and a desired output value (also called \n",
       "the supervisory signal). A \u001b[30;48;2;255;255;0msupervised\u001b[0m \u001b[30;48;2;255;255;0mlearning\u001b[0m algorithm analyzes the \u001b[30;48;2;255;255;0mtraining\u001b[0m data and \n",
       "produces an inferred function, which can be used for mapping new examples. An optimal \n",
       "scenario will allow for the algorithm to correctly determine the class \u001b[30;48;2;255;255;0mlabels\u001b[0m for unseen \n",
       "instances. This requires the \u001b[30;48;2;255;255;0mlearning\u001b[0m algorithm to generalize from the \u001b[30;48;2;255;255;0mtraining\u001b[0m data to \n",
       "unseen situations in a 'reasonable' way (see inductive bias).\n"
      ]
     },
     "metadata": {},
     "output_type": "display_data"
    },
    {
     "data": {
      "text/plain": [
       "[('supervised', 0.6676),\n",
       " ('labeled', 0.4896),\n",
       " ('learning', 0.4813),\n",
       " ('training', 0.4134),\n",
       " ('labels', 0.3947)]"
      ]
     },
     "execution_count": 5,
     "metadata": {},
     "output_type": "execute_result"
    }
   ],
   "source": [
    "kw_model.extract_keywords(doc, highlight=True)"
   ]
  },
  {
   "cell_type": "code",
   "execution_count": 6,
   "id": "78b5200b-839a-4472-9f9b-9f5ab6cdb325",
   "metadata": {},
   "outputs": [
    {
     "data": {
      "text/plain": [
       "[('supervised learning algorithm', 0.6992),\n",
       " ('pairs infers function', 0.1981),\n",
       " ('unseen situations reasonable', 0.2142),\n",
       " ('value called supervisory', 0.2895),\n",
       " ('class labels unseen', 0.3469)]"
      ]
     },
     "execution_count": 6,
     "metadata": {},
     "output_type": "execute_result"
    }
   ],
   "source": [
    "kw_model.extract_keywords(doc, keyphrase_ngram_range=(3, 3), stop_words='english', \n",
    "                              use_mmr=True, diversity=0.7)"
   ]
  },
  {
   "cell_type": "markdown",
   "id": "1e289a34-79dc-4b47-ae9b-a6465b67523f",
   "metadata": {},
   "source": [
    "## More relevant data:"
   ]
  },
  {
   "cell_type": "code",
   "execution_count": 7,
   "id": "bce594dd-18b6-4eb5-840d-f39ef8fabddf",
   "metadata": {},
   "outputs": [],
   "source": [
    "def readArticleText(path):\n",
    "    with open(path, 'r', encoding=\"utf-8\") as file:\n",
    "        doc = file.read()\n",
    "    return doc\n",
    "\n",
    "nftArticle = readArticleText(\"./Data/Fashion/KarlNFT.txt\")\n",
    "levis = readArticleText(\"./Data/Fashion/Levis.txt\")\n",
    "winterOlympics = readArticleText(\"./Data/Fashion/WinterOlympics.txt\")"
   ]
  },
  {
   "cell_type": "markdown",
   "id": "3d4abe49-777a-4190-85c3-1c361380b74a",
   "metadata": {
    "tags": []
   },
   "source": [
    "### Article about NFT by Karl Lagerfeld:"
   ]
  },
  {
   "cell_type": "code",
   "execution_count": 8,
   "id": "c75e8147-c7f5-4ecf-a40e-b3f08b91ffc4",
   "metadata": {},
   "outputs": [
    {
     "data": {
      "text/plain": [
       "[('nft collectibles luxury', 0.6237),\n",
       " ('lagerfeld newest nfts', 0.616),\n",
       " ('nft figurines', 0.6009),\n",
       " ('nft collectibles', 0.5922),\n",
       " ('nft figurines sold', 0.5918)]"
      ]
     },
     "execution_count": 8,
     "metadata": {},
     "output_type": "execute_result"
    }
   ],
   "source": [
    "kw_model.extract_keywords(nftArticle, keyphrase_ngram_range=(1, 3), stop_words='english')"
   ]
  },
  {
   "cell_type": "code",
   "execution_count": 9,
   "id": "b0778567-94e8-4610-b199-679fe9de7276",
   "metadata": {},
   "outputs": [
    {
     "data": {
      "text/html": [
       "<pre style=\"white-space:pre;overflow-x:auto;line-height:normal;font-family:Menlo,'DejaVu Sans Mono',consolas,'Courier New',monospace\">Karl Lagerfeld drops <span style=\"color: #000000; text-decoration-color: #000000; background-color: #ffff00\">NFT</span> <span style=\"color: #000000; text-decoration-color: #000000; background-color: #ffff00\">collectibles</span> Luxury fashion house Karl Lagerfeld has announced the \n",
       "launch of two <span style=\"color: #000000; text-decoration-color: #000000; background-color: #ffff00\">NFT</span> collectibles. The <span style=\"color: #000000; text-decoration-color: #000000; background-color: #ffff00\">collectibles</span> are to be launched on the Web3 digital \n",
       "fashion marketplace, The Dematerialised. The new <span style=\"color: #000000; text-decoration-color: #000000; background-color: #ffff00\">collectibles</span> follow a previous successful \n",
       "release of three <span style=\"color: #000000; text-decoration-color: #000000; background-color: #ffff00\">NFT</span> figurines which sold out in minutes. The <span style=\"color: #000000; text-decoration-color: #000000; background-color: #ffff00\">NFt</span> were designed in \n",
       "collaboration with London-based street artist, Endless. 500 figurines of one <span style=\"color: #000000; text-decoration-color: #000000; background-color: #ffff00\">NFt</span> will be \n",
       "released for 100 euros, called KLxEndless. A more exclusive version - <span style=\"color: #000000; text-decoration-color: #000000; background-color: #ffff00\">KL7xEndless</span> - will be \n",
       "available for 777 euros, with only 7 editions up for grabs. Both <span style=\"color: #000000; text-decoration-color: #000000; background-color: #ffff00\">NFTs</span> are of Karl Lagerfeld’s\n",
       "Ikonik likeness, and are wearing prints made by Endless. The figurines will also act as \n",
       "access passes to an exclusive Karl Lagerfeld event, with the more exclusive <span style=\"color: #000000; text-decoration-color: #000000; background-color: #ffff00\">KL7xEndless</span> \n",
       "including an invitation to a cocktail party with a performance by Endless. Owners of \n",
       "<span style=\"color: #000000; text-decoration-color: #000000; background-color: #ffff00\">KLxEndless</span> figures will be able to access the digital highlights of the event, which will \n",
       "include the Endless performance and behind the scenes footage. “As Karl was always fully \n",
       "immersed in the cultural relevance of the here-and-now, with this latest drop, Karl Lagerfeld\n",
       "continues to break new ground and create incredible experiences for our consumers. This \n",
       "launch represents the next exciting chapter on our journey into the digital sphere,” said \n",
       "Pier Paolo Righi, CEO of Karl Lagerfeld. The newest <span style=\"color: #000000; text-decoration-color: #000000; background-color: #ffff00\">NFTs</span> also allow consumers to interact \n",
       "with the digital Karl in an augmented reality environment, and also to share images with the \n",
       "hashtag, PosewithKarl, much like with the brand’s previous release of NFTs. “With the launch \n",
       "of Karl x Endless NFTs, we hope to continue in his footsteps, pioneering a future of what is \n",
       "possible when the worlds of art and fashion collide,” said Endless. “We are at the start of \n",
       "making tomorrow’s virtual world a creative world.” The <span style=\"color: #000000; text-decoration-color: #000000; background-color: #ffff00\">collectibles</span> will launch on December \n",
       "17.\n",
       "</pre>\n"
      ],
      "text/plain": [
       "Karl Lagerfeld drops \u001b[30;48;2;255;255;0mNFT\u001b[0m \u001b[30;48;2;255;255;0mcollectibles\u001b[0m Luxury fashion house Karl Lagerfeld has announced the \n",
       "launch of two \u001b[30;48;2;255;255;0mNFT\u001b[0m collectibles. The \u001b[30;48;2;255;255;0mcollectibles\u001b[0m are to be launched on the Web3 digital \n",
       "fashion marketplace, The Dematerialised. The new \u001b[30;48;2;255;255;0mcollectibles\u001b[0m follow a previous successful \n",
       "release of three \u001b[30;48;2;255;255;0mNFT\u001b[0m figurines which sold out in minutes. The \u001b[30;48;2;255;255;0mNFt\u001b[0m were designed in \n",
       "collaboration with London-based street artist, Endless. 500 figurines of one \u001b[30;48;2;255;255;0mNFt\u001b[0m will be \n",
       "released for 100 euros, called KLxEndless. A more exclusive version - \u001b[30;48;2;255;255;0mKL7xEndless\u001b[0m - will be \n",
       "available for 777 euros, with only 7 editions up for grabs. Both \u001b[30;48;2;255;255;0mNFTs\u001b[0m are of Karl Lagerfeld’s\n",
       "Ikonik likeness, and are wearing prints made by Endless. The figurines will also act as \n",
       "access passes to an exclusive Karl Lagerfeld event, with the more exclusive \u001b[30;48;2;255;255;0mKL7xEndless\u001b[0m \n",
       "including an invitation to a cocktail party with a performance by Endless. Owners of \n",
       "\u001b[30;48;2;255;255;0mKLxEndless\u001b[0m figures will be able to access the digital highlights of the event, which will \n",
       "include the Endless performance and behind the scenes footage. “As Karl was always fully \n",
       "immersed in the cultural relevance of the here-and-now, with this latest drop, Karl Lagerfeld\n",
       "continues to break new ground and create incredible experiences for our consumers. This \n",
       "launch represents the next exciting chapter on our journey into the digital sphere,” said \n",
       "Pier Paolo Righi, CEO of Karl Lagerfeld. The newest \u001b[30;48;2;255;255;0mNFTs\u001b[0m also allow consumers to interact \n",
       "with the digital Karl in an augmented reality environment, and also to share images with the \n",
       "hashtag, PosewithKarl, much like with the brand’s previous release of NFTs. “With the launch \n",
       "of Karl x Endless NFTs, we hope to continue in his footsteps, pioneering a future of what is \n",
       "possible when the worlds of art and fashion collide,” said Endless. “We are at the start of \n",
       "making tomorrow’s virtual world a creative world.” The \u001b[30;48;2;255;255;0mcollectibles\u001b[0m will launch on December \n",
       "17.\n"
      ]
     },
     "metadata": {},
     "output_type": "display_data"
    },
    {
     "data": {
      "text/plain": [
       "[('klxendless', 0.4777),\n",
       " ('nfts', 0.4736),\n",
       " ('kl7xendless', 0.4733),\n",
       " ('nft', 0.4663),\n",
       " ('collectibles', 0.3812)]"
      ]
     },
     "execution_count": 9,
     "metadata": {},
     "output_type": "execute_result"
    }
   ],
   "source": [
    "kw_model.extract_keywords(nftArticle, highlight=True)"
   ]
  },
  {
   "cell_type": "code",
   "execution_count": 10,
   "id": "bba340b8-ced8-4302-a0c9-58aad897b168",
   "metadata": {},
   "outputs": [
    {
     "data": {
      "text/plain": [
       "[('nft collectibles luxury', 0.6237),\n",
       " ('karl lagerfeld announced', 0.3616),\n",
       " ('klxendless exclusive version', 0.4586),\n",
       " ('prints endless figurines', 0.3691),\n",
       " ('digital karl augmented', 0.364)]"
      ]
     },
     "execution_count": 10,
     "metadata": {},
     "output_type": "execute_result"
    }
   ],
   "source": [
    "kw_model.extract_keywords(nftArticle, keyphrase_ngram_range=(1, 3), stop_words='english', \n",
    "                              use_mmr=True, diversity=0.6)"
   ]
  },
  {
   "cell_type": "code",
   "execution_count": 11,
   "id": "80d5ad4a-1f42-439b-866f-2e0118bfe07d",
   "metadata": {},
   "outputs": [
    {
     "data": {
      "text/plain": [
       "[('nft collectibles luxury', 0.6237),\n",
       " ('karl lagerfeld announced', 0.3616),\n",
       " ('klxendless figures', 0.5851),\n",
       " ('digital karl augmented', 0.364),\n",
       " ('777 euros editions', 0.3403)]"
      ]
     },
     "execution_count": 11,
     "metadata": {},
     "output_type": "execute_result"
    }
   ],
   "source": [
    "kw_model.extract_keywords(nftArticle, keyphrase_ngram_range=(1, 3), stop_words='english', \n",
    "                              use_mmr=True)"
   ]
  },
  {
   "cell_type": "markdown",
   "id": "a37d1c60-3621-44f4-bf31-3cd0b70c5d95",
   "metadata": {},
   "source": [
    "### Winter Olympics:"
   ]
  },
  {
   "cell_type": "code",
   "execution_count": 12,
   "id": "a471b495-ce5d-4003-9973-2700862d64dc",
   "metadata": {},
   "outputs": [
    {
     "data": {
      "text/html": [
       "<pre style=\"white-space:pre;overflow-x:auto;line-height:normal;font-family:Menlo,'DejaVu Sans Mono',consolas,'Courier New',monospace\">Ben Sherman and Team GB unveil ceremony wear for winter <span style=\"color: #000000; text-decoration-color: #000000; background-color: #ffff00\">Olympics</span> Ben Sherman has unveiled its\n",
       "latest collection with Team GB that the athletes will wear to attend the opening and closing \n",
       "ceremony at the Beijing 2022 Olympic Winter Games. The athlete’s opening ceremony <span style=\"color: #000000; text-decoration-color: #000000; background-color: #ffff00\">attire</span> \n",
       "features a deep roll-neck cream sweater featuring a bold and colourful deconstructed union \n",
       "jack flag, <span style=\"color: #000000; text-decoration-color: #000000; background-color: #ffff00\">worn</span> with navy mini-dogtooth print trousers and a warm, heavy, classic quilted \n",
       "peacoat in true navy with Great Britain in reflective lettering on the back. The <span style=\"color: #000000; text-decoration-color: #000000; background-color: #ffff00\">outfit</span> also \n",
       "includes a matching Great Britain bobble hat and scarf set with lug sole Chelsea boots to \n",
       "finish the look. While the closing ceremony uniform includes a blue crew neck checked sweater\n",
       "paired with the mini-dogtooth print trouser and an all-over repeated logo bobble-hat. The \n",
       "limited-edition knits feature the official Team GB badge and Olympic rings on the chest. Tim \n",
       "Reid, senior vice president of fashion and lifestyle at Ben Sherman, said in a statement: “We\n",
       "are thrilled to support Team GB with another stylish athlete collection for the upcoming \n",
       "Olympic Winter Games. The partnership between Ben Sherman and Team GB has supported athletes \n",
       "from Great Britain and Northern Ireland, and we’re pleased to continue our support as they go\n",
       "for gold in Beijing.” To launch the limited edition Ben Sherman x Team GB collection, which \n",
       "is available to buy, the brand teamed up with Team GB Olympic <span style=\"color: #000000; text-decoration-color: #000000; background-color: #ffff00\">medal</span> hopefuls Joel Fearon, one\n",
       "of the fastest hundred-metre sprinters in British history and member of the Team GB \n",
       "four-person bobsled team, and freestyle skier Katie Summerhayes to model the pieces. British \n",
       "Olympic Association chief executive Andy Anson added: “We are very excited to partner with \n",
       "Ben Sherman once again on the launch of the Beijing 2022 ceremony wear following the delivery\n",
       "of the hugely successful Tokyo designs. “The clothes embody the key symbols that form Team \n",
       "GB’s identity, most notably the British flag, alongside the proud history and heritage of Ben\n",
       "Sherman. Katie and Joel were great ambassadors for the shoot and loved the products. We have \n",
       "no doubt the team going to Beijing will wear it with great pride.” The partnership for \n",
       "Beijing is the second time Ben Sherman has worked with Team GB this year, previously \n",
       "providing the official kit for the delayed Tokyo 2020 Olympic Games. The Beijing 2022 Olympic\n",
       "Winter Games opening ceremony will take place on February 4, 2022, with the closing ceremony \n",
       "on February 20, 2022. The Ben Sherman x Team GB capsule collection is available to purchase \n",
       "online from the Ben Sherman and Team GB websites.\n",
       "</pre>\n"
      ],
      "text/plain": [
       "Ben Sherman and Team GB unveil ceremony wear for winter \u001b[30;48;2;255;255;0mOlympics\u001b[0m Ben Sherman has unveiled its\n",
       "latest collection with Team GB that the athletes will wear to attend the opening and closing \n",
       "ceremony at the Beijing 2022 Olympic Winter Games. The athlete’s opening ceremony \u001b[30;48;2;255;255;0mattire\u001b[0m \n",
       "features a deep roll-neck cream sweater featuring a bold and colourful deconstructed union \n",
       "jack flag, \u001b[30;48;2;255;255;0mworn\u001b[0m with navy mini-dogtooth print trousers and a warm, heavy, classic quilted \n",
       "peacoat in true navy with Great Britain in reflective lettering on the back. The \u001b[30;48;2;255;255;0moutfit\u001b[0m also \n",
       "includes a matching Great Britain bobble hat and scarf set with lug sole Chelsea boots to \n",
       "finish the look. While the closing ceremony uniform includes a blue crew neck checked sweater\n",
       "paired with the mini-dogtooth print trouser and an all-over repeated logo bobble-hat. The \n",
       "limited-edition knits feature the official Team GB badge and Olympic rings on the chest. Tim \n",
       "Reid, senior vice president of fashion and lifestyle at Ben Sherman, said in a statement: “We\n",
       "are thrilled to support Team GB with another stylish athlete collection for the upcoming \n",
       "Olympic Winter Games. The partnership between Ben Sherman and Team GB has supported athletes \n",
       "from Great Britain and Northern Ireland, and we’re pleased to continue our support as they go\n",
       "for gold in Beijing.” To launch the limited edition Ben Sherman x Team GB collection, which \n",
       "is available to buy, the brand teamed up with Team GB Olympic \u001b[30;48;2;255;255;0mmedal\u001b[0m hopefuls Joel Fearon, one\n",
       "of the fastest hundred-metre sprinters in British history and member of the Team GB \n",
       "four-person bobsled team, and freestyle skier Katie Summerhayes to model the pieces. British \n",
       "Olympic Association chief executive Andy Anson added: “We are very excited to partner with \n",
       "Ben Sherman once again on the launch of the Beijing 2022 ceremony wear following the delivery\n",
       "of the hugely successful Tokyo designs. “The clothes embody the key symbols that form Team \n",
       "GB’s identity, most notably the British flag, alongside the proud history and heritage of Ben\n",
       "Sherman. Katie and Joel were great ambassadors for the shoot and loved the products. We have \n",
       "no doubt the team going to Beijing will wear it with great pride.” The partnership for \n",
       "Beijing is the second time Ben Sherman has worked with Team GB this year, previously \n",
       "providing the official kit for the delayed Tokyo 2020 Olympic Games. The Beijing 2022 Olympic\n",
       "Winter Games opening ceremony will take place on February 4, 2022, with the closing ceremony \n",
       "on February 20, 2022. The Ben Sherman x Team GB capsule collection is available to purchase \n",
       "online from the Ben Sherman and Team GB websites.\n"
      ]
     },
     "metadata": {},
     "output_type": "display_data"
    },
    {
     "data": {
      "text/plain": [
       "[('attire', 0.4226),\n",
       " ('olympics', 0.3928),\n",
       " ('worn', 0.3795),\n",
       " ('outfit', 0.3791),\n",
       " ('medal', 0.3781)]"
      ]
     },
     "execution_count": 12,
     "metadata": {},
     "output_type": "execute_result"
    }
   ],
   "source": [
    "kw_model.extract_keywords(winterOlympics, highlight=True)"
   ]
  },
  {
   "cell_type": "code",
   "execution_count": 13,
   "id": "018769d8-e148-40d2-ad47-40df728522da",
   "metadata": {},
   "outputs": [
    {
     "data": {
      "text/plain": [
       "[('gb athletes wear', 0.6547),\n",
       " ('gb badge olympic', 0.581),\n",
       " ('wear winter olympics', 0.5754),\n",
       " ('winter olympics ben', 0.5704),\n",
       " ('olympics ben sherman', 0.5677)]"
      ]
     },
     "execution_count": 13,
     "metadata": {},
     "output_type": "execute_result"
    }
   ],
   "source": [
    "kw_model.extract_keywords(winterOlympics, keyphrase_ngram_range=(1, 3), stop_words='english')"
   ]
  },
  {
   "cell_type": "code",
   "execution_count": 14,
   "id": "0554efe8-b6a6-4522-b13c-594e47bc4270",
   "metadata": {},
   "outputs": [
    {
     "data": {
      "text/plain": [
       "[('gb athletes wear', 0.6547),\n",
       " ('ben sherman unveiled', 0.482),\n",
       " ('closing ceremony beijing', 0.3306),\n",
       " ('winter olympics ben', 0.5704),\n",
       " ('classic quilted peacoat', 0.3691)]"
      ]
     },
     "execution_count": 14,
     "metadata": {},
     "output_type": "execute_result"
    }
   ],
   "source": [
    "kw_model.extract_keywords(winterOlympics, keyphrase_ngram_range=(1, 3), stop_words='english', \n",
    "                              use_mmr=True)"
   ]
  },
  {
   "cell_type": "markdown",
   "id": "b3ddbb2e-9836-415e-ab86-5e629c5c5cea",
   "metadata": {
    "tags": []
   },
   "source": [
    "### Levis Article:"
   ]
  },
  {
   "cell_type": "code",
   "execution_count": 15,
   "id": "ea34fdca-5df8-4809-9e66-f713b504ac97",
   "metadata": {},
   "outputs": [
    {
     "data": {
      "text/html": [
       "<pre style=\"white-space:pre;overflow-x:auto;line-height:normal;font-family:Menlo,'DejaVu Sans Mono',consolas,'Courier New',monospace\">Levi’s and Jaden <span style=\"color: #000000; text-decoration-color: #000000; background-color: #ffff00\">Smith</span> partner on collection Levi’s has partnered with Jaden <span style=\"color: #000000; text-decoration-color: #000000; background-color: #ffff00\">Smith</span> on a new \n",
       "collection. The next release in a long line of previous collaborations, the limited capsule \n",
       "is inspired by Smith’s love of DIY customization. Smith, who is a <span style=\"color: #000000; text-decoration-color: #000000; background-color: #ffff00\">brand</span> ambassador for \n",
       "Levi’s, used his own experiences of custom screen printing in his garage to develop the \n",
       "collection’s graphics. Containing two pieces, the classic Levi’s 501 <span style=\"color: #000000; text-decoration-color: #000000; background-color: #ffff00\">jean</span> and the Levi’s Type\n",
       "III Trucker are adorned with peace signs. The phrase Artificial <span style=\"color: #000000; text-decoration-color: #000000; background-color: #ffff00\">Laser</span> Focus Group is featured\n",
       "on the front and back of the Trucker Jacket. “It embodies my desire to cut through a room \n",
       "with a bright light, like a laser,” said <span style=\"color: #000000; text-decoration-color: #000000; background-color: #ffff00\">Smith</span> of the graphic. The capsule is available only \n",
       "on the Levi’s app.\n",
       "</pre>\n"
      ],
      "text/plain": [
       "Levi’s and Jaden \u001b[30;48;2;255;255;0mSmith\u001b[0m partner on collection Levi’s has partnered with Jaden \u001b[30;48;2;255;255;0mSmith\u001b[0m on a new \n",
       "collection. The next release in a long line of previous collaborations, the limited capsule \n",
       "is inspired by Smith’s love of DIY customization. Smith, who is a \u001b[30;48;2;255;255;0mbrand\u001b[0m ambassador for \n",
       "Levi’s, used his own experiences of custom screen printing in his garage to develop the \n",
       "collection’s graphics. Containing two pieces, the classic Levi’s 501 \u001b[30;48;2;255;255;0mjean\u001b[0m and the Levi’s Type\n",
       "III Trucker are adorned with peace signs. The phrase Artificial \u001b[30;48;2;255;255;0mLaser\u001b[0m Focus Group is featured\n",
       "on the front and back of the Trucker Jacket. “It embodies my desire to cut through a room \n",
       "with a bright light, like a laser,” said \u001b[30;48;2;255;255;0mSmith\u001b[0m of the graphic. The capsule is available only \n",
       "on the Levi’s app.\n"
      ]
     },
     "metadata": {},
     "output_type": "display_data"
    },
    {
     "data": {
      "text/plain": [
       "[('levi', 0.4894),\n",
       " ('brand', 0.3749),\n",
       " ('jean', 0.3508),\n",
       " ('laser', 0.3446),\n",
       " ('smith', 0.2871)]"
      ]
     },
     "execution_count": 15,
     "metadata": {},
     "output_type": "execute_result"
    }
   ],
   "source": [
    "kw_model.extract_keywords(levis, highlight=True)"
   ]
  },
  {
   "cell_type": "code",
   "execution_count": 16,
   "id": "9408b968-d7f0-4690-a0ce-c3c65194e266",
   "metadata": {},
   "outputs": [
    {
     "data": {
      "text/plain": [
       "[('partner collection levi', 0.5859),\n",
       " ('levi partnered jaden', 0.5796),\n",
       " ('collection levi partnered', 0.5738),\n",
       " ('jean levi type', 0.5489),\n",
       " ('levi jaden smith', 0.5406)]"
      ]
     },
     "execution_count": 16,
     "metadata": {},
     "output_type": "execute_result"
    }
   ],
   "source": [
    "kw_model.extract_keywords(levis, keyphrase_ngram_range=(1, 3), stop_words='english')"
   ]
  },
  {
   "cell_type": "code",
   "execution_count": 17,
   "id": "9bf08306-5370-43c7-b990-36061e698db1",
   "metadata": {},
   "outputs": [
    {
     "data": {
      "text/plain": [
       "[('partner collection levi', 0.5859),\n",
       " ('limited capsule inspired', 0.4734),\n",
       " ('laser focus group', 0.4098),\n",
       " ('jaden smith new', 0.3773),\n",
       " ('trucker jacket embodies', 0.2581)]"
      ]
     },
     "execution_count": 17,
     "metadata": {},
     "output_type": "execute_result"
    }
   ],
   "source": [
    "kw_model.extract_keywords(levis, keyphrase_ngram_range=(1, 3), stop_words='english', use_mmr=True)"
   ]
  },
  {
   "cell_type": "markdown",
   "id": "5ca0c322-399d-4f66-a6df-4c82d7416d07",
   "metadata": {},
   "source": [
    "### Can we get some examples relevant to FashionIQ dataset?"
   ]
  },
  {
   "cell_type": "markdown",
   "id": "ee289a39-51ad-4c30-a46c-9d75c86fa91f",
   "metadata": {},
   "source": [
    "### Vogue: 2022’s Fashion Forecast?"
   ]
  },
  {
   "cell_type": "code",
   "execution_count": 18,
   "id": "41a97be9-b3ac-4d98-9930-201d623fb37a",
   "metadata": {},
   "outputs": [],
   "source": [
    "article = readArticleText(\"./Data/Fashion/VogueForecast.txt\")"
   ]
  },
  {
   "cell_type": "code",
   "execution_count": 19,
   "id": "5d56aa29-b788-4bb6-b5b1-9155729724f6",
   "metadata": {},
   "outputs": [
    {
     "data": {
      "text/html": [
       "<pre style=\"white-space:pre;overflow-x:auto;line-height:normal;font-family:Menlo,'DejaVu Sans Mono',consolas,'Courier New',monospace\">Vogue: 2022’s <span style=\"color: #000000; text-decoration-color: #000000; background-color: #ffff00\">Fashion</span> Forecast? Craftsmanship, Trophy Vintage, And Acres Of Bare Skin Vive la\n",
       "libération! The “out-out” <span style=\"color: #000000; text-decoration-color: #000000; background-color: #ffff00\">dressing</span> juggernaut is free-wheeling its way into next year, as the\n",
       "world’s top buyers are doubling down on <span style=\"color: #000000; text-decoration-color: #000000; background-color: #ffff00\">fashion</span> that demands to be seen. If <span style=\"color: #000000; text-decoration-color: #000000; background-color: #ffff00\">2021</span> was about \n",
       "getting back in the game, 2022 is going to see us truly putting ourselves out there – \n",
       "according to the power women setting the shopping agenda at Matches Fashion, Net-a-Porter and\n",
       "Farfetch. “The joy of <span style=\"color: #000000; text-decoration-color: #000000; background-color: #ffff00\">dressing</span> up has quickly moved into the new sexy trend,” asserts Liane \n",
       "Wiggins, head of womenswear at Matches. “Brands are really focusing on looks to enhance and \n",
       "empower women and make the customer feel positive, but always true to themselves.” Read more:\n",
       "Spring/Summer 2022 <span style=\"color: #000000; text-decoration-color: #000000; background-color: #ffff00\">Fashion</span> Trends Also giving us all the <span style=\"color: #000000; text-decoration-color: #000000; background-color: #ffff00\">fashion</span> feels? Vintage. But while \n",
       "this year saw us becoming au fait with a growing number of consignment sites, 2022 will see \n",
       "us hunting down archive pieces with a new, laser-sharp focus. Instead of the Jean Paul \n",
       "Gaultier pieces made famous by the Kardashian-Jenners, it’s all about ultra-specific JPG \n",
       "iconography, according to the Depop sellers in the know. The predicted rise in craftsmanship \n",
       "is also linked to our growing emphasis on environmentally and socially responsible practices.\n",
       "Consider 2022 the year of doing good, and not giving two hoots about what anyone else thinks.\n",
       "Here’s what’s on the agenda. Let’s talk about sex, baby “There’s a feeling of positivity and \n",
       "optimism in the air,” says Wiggins, likening the vibe to the spirit of the women’s liberation\n",
       "movement in the ’60s, when hemlines were high and swinging miniskirts came in colour-pop \n",
       "shades. Valentino led the mood-boosting <span style=\"color: #000000; text-decoration-color: #000000; background-color: #ffff00\">fashion</span> brigade, while Versace, Saint Laurent and \n",
       "Givenchy sent the message loud and proud that “skin is in”. “It’s all about reclaiming your \n",
       "power and sexuality in a way that works for you,” continues Wiggins, which is why the trend \n",
       "for super-sculpting fabrics and cut-outs is here to stay. Young upstarts Nensi Dojaka, \n",
       "Maximilian and Supriya Lele have stolen the spliced-and-diced headlines so far, but now more \n",
       "brands are muscling in on the action and opening up the playing field. “There’s a lot of \n",
       "thought around using fabrics that flatter all shapes in the most effortless, approachable \n",
       "way,” explains Wiggins, name-checking Ganni for appropriating the conceal-and-reveal look for\n",
       "those without a militant crunching routine. “The season’s co-ords emphasise your best \n",
       "features with a focus on new erogenous zones, such as shoulder cutouts, which feel \n",
       "body-friendly.” If you’re already a disciple of the skimpy laced-up look, Ludovic de Saint \n",
       "Sernin’s daringly sheer crystal sheaths are the way to go in 2022. The cult product to spark \n",
       "smiles in: Valentino’s hot-pink crepe dress and green minidress, which combine the sky-high \n",
       "hemline craze with the dopamine colours that we can’t get enough of right now. Click clack, \n",
       "party shoes are back “Over the past few years, shoes and bags have become very minimalist, \n",
       "but this season, it felt like designers were designing for themselves again,” notes Wiggins, \n",
       "singling out Loewe’s walking-on-eggshell heels as being “emotive and fun”. Libby Page, senior\n",
       "market editor at Net-a-Porter, concurs that Jonathan Anderson has the Midas touch when it \n",
       "comes to smash-hit footwear, but says Saint Laurent’s eye-watering platforms are “the \n",
       "definition of high-octane glamour”. The Depop crowd expects cowboy boots to continue to sell \n",
       "out fast as our Western obsession continues to bubble away, while Asal Tehrani of @Susamusa \n",
       "(aka Bella Hadid’s favourite Depop destination), says bags are going to get even more \n",
       "microscopic, in line with our taste for the flavours of the ’90s and ’00s. Even better to let\n",
       "that fearless footwear do the talking. The instantly iconic heels to bag early: Loewe’s \n",
       "cracked-egg stilettos. Very specific vintage Speaking of the Noughties, nostalgia is here to \n",
       "stay. “With Nicola Brognano and Lotta Volkova leading the parade at Blumarine, the ’00s \n",
       "resurgence we were due for is the perfect playful antidote to the dark times we’re emerging \n",
       "from,” explains Celenie Seidel, senior women’s editor at Farfetch. “The shiny, flashiness of \n",
       "Y2K is perfectly in sync with the current spirit of breaking your own style rules, \n",
       "challenging your signature aesthetic, and feeling a bit wild. Rhinestones, weird denim \n",
       "washes, tiny fluff-trimmed cardigans… it’s all remedial.” Depop sellers can’t source corsets \n",
       "quickly enough to satisfy demand. “The corset trend is already reaching its peak, but I think\n",
       "it will continue into 2022 with unconventional materials, like denim or pleather, taking the \n",
       "main stage,” says Thidarat Kaha of @archivesix, whose business is still comfortably riding \n",
       "the Y2K train. Kaha is also expecting big business in Jean Paul Gaultier from 1995 to 1997, \n",
       "because “the comfort of a JPG mesh top juxtaposed with the loud and iconic print  high \n",
       "vintage <span style=\"color: #000000; text-decoration-color: #000000; background-color: #ffff00\">fashion</span> on the go”. Fellow seller Pascale Eliza Davies, of @pascaleeliza, is also \n",
       "stocking up on Gaultier, expecting the brand’s own re-imagining of its archive to boost the \n",
       "value of original pieces, and ’90s Vivienne Westwood Boucher pieces, which are hard to get \n",
       "hold of and extremely lucrative. Her top tip for the year ahead? Motocross jackets are coming\n",
       "back. Start revving those engines and bag that biker look early. The retro gems Bella will be\n",
       "papped in first: Old-school Karen Millen and Betsey Johnson already sell well on Depop and \n",
       "have a great trajectory ahead, but the one to watch is Morgan De Toi – “a sexy ’90s classic”,\n",
       "according to @Susamusa’s Tehrani. Arts and crafts corner If the #craftcore craze was a tad \n",
       "Gen-Z-tastic for you, the rise of real artisanship is truly worth a look. “Gabriela Hearst \n",
       "leads the charge at both her own label, collaborating with South American craft collectives, \n",
       "and as creative director at Chloé via the launch of Chloé Craft, a limited line of unique, \n",
       "handmade pieces,” notes Wiggins, who says the Matches <span style=\"color: #000000; text-decoration-color: #000000; background-color: #ffff00\">Fashion</span> customer is passionate about \n",
       "authenticity, before highlighting Proenza Schouler, Wales Bonner, Altuzarra and Chopova \n",
       "Lowena as other labels successfully showcasing the work of centuries-old artisanship. “This \n",
       "product doesn’t feel driven by trend or time, it feels collectible. The pieces all tell their\n",
       "own stories and place an emphasis on global luxury production.” Page also links the global \n",
       "aspect of the trend to our appetite for escapism after too long spent grounded. The homespun \n",
       "humble brag: Any of The Elder Statesman’s fantastically peppy knits, underscored by surfing \n",
       "enthusiast Greg Chait’s flower power vision. What a way to make a living On the flip side, \n",
       "we’re excited to be back in the office – at least on the <span style=\"color: #000000; text-decoration-color: #000000; background-color: #ffff00\">fashion</span> front. “The idea of workwear\n",
       "has almost become fetishised in the time we’ve been locked away at home,” notes Farfetch’s \n",
       "Seidel. “What was once reality has become some sort of fantasy, and the idea of <span style=\"color: #000000; text-decoration-color: #000000; background-color: #ffff00\">dressing</span> in \n",
       "office-y tailoring feels like a costume for some sort of alternate reality. Miu Miu’s \n",
       "spring/summer 2022 collection, which was a collision of preppy school uniforms and ’90s \n",
       "minimalist office clothes, speaks perfectly to this.” Kaha at @archivesix predicts Moschino \n",
       "and Versace tailoring is going to get her customers bidding. “We’re going back to the office \n",
       "and the pub-lic, but doing it in style with suits for everyday wear, suits for Sunday \n",
       "afternoons at Columbia Road Flower Market… très chic,” says the smart Depop seller. The \n",
       "water-cooler conversation starter: Miu Miu’s cheek-grazing belt skirts, which score a grade A\n",
       "for schoolgirlish charm. The final memo “After being confined to our homes more than we could\n",
       "ever have anticipated, people have been itching to re-emerge, feeling bolder and more risqué \n",
       "on the cusp of a new era,” says Seidel. Bring on the big reveal.\n",
       "</pre>\n"
      ],
      "text/plain": [
       "Vogue: 2022’s \u001b[30;48;2;255;255;0mFashion\u001b[0m Forecast? Craftsmanship, Trophy Vintage, And Acres Of Bare Skin Vive la\n",
       "libération! The “out-out” \u001b[30;48;2;255;255;0mdressing\u001b[0m juggernaut is free-wheeling its way into next year, as the\n",
       "world’s top buyers are doubling down on \u001b[30;48;2;255;255;0mfashion\u001b[0m that demands to be seen. If \u001b[30;48;2;255;255;0m2021\u001b[0m was about \n",
       "getting back in the game, 2022 is going to see us truly putting ourselves out there – \n",
       "according to the power women setting the shopping agenda at Matches Fashion, Net-a-Porter and\n",
       "Farfetch. “The joy of \u001b[30;48;2;255;255;0mdressing\u001b[0m up has quickly moved into the new sexy trend,” asserts Liane \n",
       "Wiggins, head of womenswear at Matches. “Brands are really focusing on looks to enhance and \n",
       "empower women and make the customer feel positive, but always true to themselves.” Read more:\n",
       "Spring/Summer 2022 \u001b[30;48;2;255;255;0mFashion\u001b[0m Trends Also giving us all the \u001b[30;48;2;255;255;0mfashion\u001b[0m feels? Vintage. But while \n",
       "this year saw us becoming au fait with a growing number of consignment sites, 2022 will see \n",
       "us hunting down archive pieces with a new, laser-sharp focus. Instead of the Jean Paul \n",
       "Gaultier pieces made famous by the Kardashian-Jenners, it’s all about ultra-specific JPG \n",
       "iconography, according to the Depop sellers in the know. The predicted rise in craftsmanship \n",
       "is also linked to our growing emphasis on environmentally and socially responsible practices.\n",
       "Consider 2022 the year of doing good, and not giving two hoots about what anyone else thinks.\n",
       "Here’s what’s on the agenda. Let’s talk about sex, baby “There’s a feeling of positivity and \n",
       "optimism in the air,” says Wiggins, likening the vibe to the spirit of the women’s liberation\n",
       "movement in the ’60s, when hemlines were high and swinging miniskirts came in colour-pop \n",
       "shades. Valentino led the mood-boosting \u001b[30;48;2;255;255;0mfashion\u001b[0m brigade, while Versace, Saint Laurent and \n",
       "Givenchy sent the message loud and proud that “skin is in”. “It’s all about reclaiming your \n",
       "power and sexuality in a way that works for you,” continues Wiggins, which is why the trend \n",
       "for super-sculpting fabrics and cut-outs is here to stay. Young upstarts Nensi Dojaka, \n",
       "Maximilian and Supriya Lele have stolen the spliced-and-diced headlines so far, but now more \n",
       "brands are muscling in on the action and opening up the playing field. “There’s a lot of \n",
       "thought around using fabrics that flatter all shapes in the most effortless, approachable \n",
       "way,” explains Wiggins, name-checking Ganni for appropriating the conceal-and-reveal look for\n",
       "those without a militant crunching routine. “The season’s co-ords emphasise your best \n",
       "features with a focus on new erogenous zones, such as shoulder cutouts, which feel \n",
       "body-friendly.” If you’re already a disciple of the skimpy laced-up look, Ludovic de Saint \n",
       "Sernin’s daringly sheer crystal sheaths are the way to go in 2022. The cult product to spark \n",
       "smiles in: Valentino’s hot-pink crepe dress and green minidress, which combine the sky-high \n",
       "hemline craze with the dopamine colours that we can’t get enough of right now. Click clack, \n",
       "party shoes are back “Over the past few years, shoes and bags have become very minimalist, \n",
       "but this season, it felt like designers were designing for themselves again,” notes Wiggins, \n",
       "singling out Loewe’s walking-on-eggshell heels as being “emotive and fun”. Libby Page, senior\n",
       "market editor at Net-a-Porter, concurs that Jonathan Anderson has the Midas touch when it \n",
       "comes to smash-hit footwear, but says Saint Laurent’s eye-watering platforms are “the \n",
       "definition of high-octane glamour”. The Depop crowd expects cowboy boots to continue to sell \n",
       "out fast as our Western obsession continues to bubble away, while Asal Tehrani of @Susamusa \n",
       "(aka Bella Hadid’s favourite Depop destination), says bags are going to get even more \n",
       "microscopic, in line with our taste for the flavours of the ’90s and ’00s. Even better to let\n",
       "that fearless footwear do the talking. The instantly iconic heels to bag early: Loewe’s \n",
       "cracked-egg stilettos. Very specific vintage Speaking of the Noughties, nostalgia is here to \n",
       "stay. “With Nicola Brognano and Lotta Volkova leading the parade at Blumarine, the ’00s \n",
       "resurgence we were due for is the perfect playful antidote to the dark times we’re emerging \n",
       "from,” explains Celenie Seidel, senior women’s editor at Farfetch. “The shiny, flashiness of \n",
       "Y2K is perfectly in sync with the current spirit of breaking your own style rules, \n",
       "challenging your signature aesthetic, and feeling a bit wild. Rhinestones, weird denim \n",
       "washes, tiny fluff-trimmed cardigans… it’s all remedial.” Depop sellers can’t source corsets \n",
       "quickly enough to satisfy demand. “The corset trend is already reaching its peak, but I think\n",
       "it will continue into 2022 with unconventional materials, like denim or pleather, taking the \n",
       "main stage,” says Thidarat Kaha of @archivesix, whose business is still comfortably riding \n",
       "the Y2K train. Kaha is also expecting big business in Jean Paul Gaultier from 1995 to 1997, \n",
       "because “the comfort of a JPG mesh top juxtaposed with the loud and iconic print  high \n",
       "vintage \u001b[30;48;2;255;255;0mfashion\u001b[0m on the go”. Fellow seller Pascale Eliza Davies, of @pascaleeliza, is also \n",
       "stocking up on Gaultier, expecting the brand’s own re-imagining of its archive to boost the \n",
       "value of original pieces, and ’90s Vivienne Westwood Boucher pieces, which are hard to get \n",
       "hold of and extremely lucrative. Her top tip for the year ahead? Motocross jackets are coming\n",
       "back. Start revving those engines and bag that biker look early. The retro gems Bella will be\n",
       "papped in first: Old-school Karen Millen and Betsey Johnson already sell well on Depop and \n",
       "have a great trajectory ahead, but the one to watch is Morgan De Toi – “a sexy ’90s classic”,\n",
       "according to @Susamusa’s Tehrani. Arts and crafts corner If the #craftcore craze was a tad \n",
       "Gen-Z-tastic for you, the rise of real artisanship is truly worth a look. “Gabriela Hearst \n",
       "leads the charge at both her own label, collaborating with South American craft collectives, \n",
       "and as creative director at Chloé via the launch of Chloé Craft, a limited line of unique, \n",
       "handmade pieces,” notes Wiggins, who says the Matches \u001b[30;48;2;255;255;0mFashion\u001b[0m customer is passionate about \n",
       "authenticity, before highlighting Proenza Schouler, Wales Bonner, Altuzarra and Chopova \n",
       "Lowena as other labels successfully showcasing the work of centuries-old artisanship. “This \n",
       "product doesn’t feel driven by trend or time, it feels collectible. The pieces all tell their\n",
       "own stories and place an emphasis on global luxury production.” Page also links the global \n",
       "aspect of the trend to our appetite for escapism after too long spent grounded. The homespun \n",
       "humble brag: Any of The Elder Statesman’s fantastically peppy knits, underscored by surfing \n",
       "enthusiast Greg Chait’s flower power vision. What a way to make a living On the flip side, \n",
       "we’re excited to be back in the office – at least on the \u001b[30;48;2;255;255;0mfashion\u001b[0m front. “The idea of workwear\n",
       "has almost become fetishised in the time we’ve been locked away at home,” notes Farfetch’s \n",
       "Seidel. “What was once reality has become some sort of fantasy, and the idea of \u001b[30;48;2;255;255;0mdressing\u001b[0m in \n",
       "office-y tailoring feels like a costume for some sort of alternate reality. Miu Miu’s \n",
       "spring/summer 2022 collection, which was a collision of preppy school uniforms and ’90s \n",
       "minimalist office clothes, speaks perfectly to this.” Kaha at @archivesix predicts Moschino \n",
       "and Versace tailoring is going to get her customers bidding. “We’re going back to the office \n",
       "and the pub-lic, but doing it in style with suits for everyday wear, suits for Sunday \n",
       "afternoons at Columbia Road Flower Market… très chic,” says the smart Depop seller. The \n",
       "water-cooler conversation starter: Miu Miu’s cheek-grazing belt skirts, which score a grade A\n",
       "for schoolgirlish charm. The final memo “After being confined to our homes more than we could\n",
       "ever have anticipated, people have been itching to re-emerge, feeling bolder and more risqué \n",
       "on the cusp of a new era,” says Seidel. Bring on the big reveal.\n"
      ]
     },
     "metadata": {},
     "output_type": "display_data"
    },
    {
     "data": {
      "text/plain": [
       "[('fashion', 0.5683),\n",
       " ('vogue', 0.5457),\n",
       " ('glamour', 0.4726),\n",
       " ('dressing', 0.4095),\n",
       " ('2021', 0.4071)]"
      ]
     },
     "execution_count": 19,
     "metadata": {},
     "output_type": "execute_result"
    }
   ],
   "source": [
    "kw_model.extract_keywords(article, highlight=True)"
   ]
  },
  {
   "cell_type": "code",
   "execution_count": 20,
   "id": "8bb371ec-a7dd-4c80-9056-78a58721895f",
   "metadata": {},
   "outputs": [
    {
     "data": {
      "text/plain": [
       "[('2022 fashion', 0.7389),\n",
       " ('vogue 2022', 0.6993),\n",
       " ('fashion trends', 0.6406),\n",
       " ('fashion demands', 0.6158),\n",
       " ('fashion forecast', 0.5769)]"
      ]
     },
     "execution_count": 20,
     "metadata": {},
     "output_type": "execute_result"
    }
   ],
   "source": [
    "kw_model.extract_keywords(article, keyphrase_ngram_range=(1, 2), stop_words='english')"
   ]
  },
  {
   "cell_type": "code",
   "execution_count": 21,
   "id": "4003d67c-785d-4574-9f62-2236e7ab4790",
   "metadata": {},
   "outputs": [
    {
     "data": {
      "text/plain": [
       "[('2022 fashion trends', 0.8065),\n",
       " ('vogue 2022 fashion', 0.77),\n",
       " ('2022 fashion', 0.7389),\n",
       " ('2022 fashion forecast', 0.7283),\n",
       " ('summer 2022 fashion', 0.7246)]"
      ]
     },
     "execution_count": 21,
     "metadata": {},
     "output_type": "execute_result"
    }
   ],
   "source": [
    "kw_model.extract_keywords(article, keyphrase_ngram_range=(1, 3), stop_words='english')"
   ]
  },
  {
   "cell_type": "code",
   "execution_count": 22,
   "id": "161f1089-7130-41b1-847d-d7a82b31d459",
   "metadata": {},
   "outputs": [
    {
     "data": {
      "text/plain": [
       "[('2022 fashion trends', 0.8065),\n",
       " ('gaultier expecting brand', 0.4445),\n",
       " ('dressing juggernaut free', 0.3774),\n",
       " ('versace tailoring going', 0.4753),\n",
       " ('womenswear matches brands', 0.5389)]"
      ]
     },
     "execution_count": 22,
     "metadata": {},
     "output_type": "execute_result"
    }
   ],
   "source": [
    "kw_model.extract_keywords(article, keyphrase_ngram_range=(1, 3), stop_words='english', \n",
    "                              use_mmr=True)"
   ]
  },
  {
   "cell_type": "markdown",
   "id": "d1b11a98-a40a-4e52-8013-e976970d09bf",
   "metadata": {
    "tags": []
   },
   "source": [
    "### EuronewsCulture:"
   ]
  },
  {
   "cell_type": "code",
   "execution_count": 23,
   "id": "146c2424-9848-474f-a77e-2502a1231779",
   "metadata": {},
   "outputs": [],
   "source": [
    "article = readArticleText(\"./Data/Fashion/euronews.txt\")"
   ]
  },
  {
   "cell_type": "code",
   "execution_count": 24,
   "id": "1289ac1a-08e1-4649-b508-0a09ca093f8d",
   "metadata": {},
   "outputs": [
    {
     "data": {
      "text/html": [
       "<pre style=\"white-space:pre;overflow-x:auto;line-height:normal;font-family:Menlo,'DejaVu Sans Mono',consolas,'Courier New',monospace\"><span style=\"color: #000000; text-decoration-color: #000000; background-color: #ffff00\">Fashion</span> Trends 2022: How will designers help us all feel good again? Comfort is key to \n",
       "<span style=\"color: #000000; text-decoration-color: #000000; background-color: #ffff00\">fashion</span> rehabilitation in 2022 Few years in <span style=\"color: #000000; text-decoration-color: #000000; background-color: #ffff00\">fashion</span> have been quite so defined by collective \n",
       "societal experience as 2020 and 2021 and the pandemic continues to be the defining influence \n",
       "on our style. However, as we look to 2022, with hope on the horizon, we’re entering a new \n",
       "phase. <span style=\"color: #000000; text-decoration-color: #000000; background-color: #ffff00\">Fashion</span> experts are predicting that our dressing habits next year will be dictated by \n",
       "the bittersweet emotion that is lingering in the air. <span style=\"color: #000000; text-decoration-color: #000000; background-color: #ffff00\">Fashion</span> stylist Rebekah Roy tells \n",
       "Euronews we’ll be both looking back and looking forward: “For 2022 we are feeling nostalgia \n",
       "for better times ahead,” she says. Trend forecaster and designer Tiffany Hill agrees: “It’s \n",
       "been a challenging year and in terms of attitudes, we will want to seek comfort, healing and \n",
       "restoration. We want to feel good again.” What exactly will that look like? These are the \n",
       "2022 trends to know. Tactile <span style=\"color: #000000; text-decoration-color: #000000; background-color: #ffff00\">textiles</span> The need to cocoon ourselves through difficult times \n",
       "will present itself in textures inspired by nature. From soft <span style=\"color: #000000; text-decoration-color: #000000; background-color: #ffff00\">fabrics</span> that bring us closer to\n",
       "the raw fibres to patterned surfaces that reflect those found in the natural world, we’ll be \n",
       "seeking solace in the feel of our clothes. Hill says: “We’ll see texture in the form of \n",
       "waffles and towelling; things to envelope and comfort us.” The trend experts at Première \n",
       "Vision, one of the <span style=\"color: #000000; text-decoration-color: #000000; background-color: #ffff00\">fashion</span> industry’s biggest <span style=\"color: #000000; text-decoration-color: #000000; background-color: #ffff00\">textile</span> sourcing events, highlighted this as \n",
       "one of their biggest trends for autumn/winter 22 across sportswear, quilted jackets and \n",
       "puffer coats. Colour me happy On the other end of the spectrum, we’ll be celebrating newfound\n",
       "freedom with bold colours across the spectrum. Roy says: “22/23 is a colourful season. We are\n",
       "still wearing yellow as we are seeking happiness and comfort from brands and winter florals \n",
       "in orangey shades. It’s easy and fun to play with bold clashing colours; think of limes and \n",
       "mauves, and wearing monochromatic statement looks.” Head-to-toe sunshine yellow was spotted \n",
       "on the spring/summer 22 catwalks of Prada and Proenza Schouler. Fiery red dresses made a \n",
       "statement at the British <span style=\"color: #000000; text-decoration-color: #000000; background-color: #ffff00\">Fashion</span> Awards, one of the last red carpet events of 2021, making it\n",
       "likely to trickle down into the mainstream. Maya Jama, model Kristen McMenamy and designer \n",
       "Molly Goddard were all spotted in the bold shade to warm up the winter event. Hill adds: \n",
       "“People want to dress up and be more individual and so we’ll see more colour and vibrancy and\n",
       "more confident dressing.” An eye for detail Many of us are still not quite ready to let go of\n",
       "our loungewear and minimalist chic but we will look to invest in higher quality versions of \n",
       "those pieces. Hill says it’s all about the finishing touches: “We’ll see more details such as\n",
       "hardware, contrasting trims, sophisticated branding. It will be core pieces but in more luxe,\n",
       "elevated fabrics. The shapes won’t change much but it will be those little details that add \n",
       "value to a product,” she explains. “Sustainability is key in a lot of minds so we’ll be \n",
       "looking for longevity and quality over quantity. Design will be more considered,” Hill adds. \n",
       "Look to premium brands who do simple style made well like Cos, or hip sustainability-focused \n",
       "labels like Pangaia, Nudie Jeans and Asket who make <span style=\"color: #000000; text-decoration-color: #000000; background-color: #ffff00\">wardrobe</span> staples designed to last. At one\n",
       "with nature <span style=\"color: #000000; text-decoration-color: #000000; background-color: #ffff00\">Fashion</span> brands and shoppers looking to make more environmentally-conscious \n",
       "decisions continues to grow and it will affect the materials we buy. Roy says: “We are \n",
       "exploring a new future and fashion-forward thinking with sustainable <span style=\"color: #000000; text-decoration-color: #000000; background-color: #ffff00\">fabrics</span> and smart \n",
       "<span style=\"color: #000000; text-decoration-color: #000000; background-color: #ffff00\">textiles</span> leading the way. Image a mushroom leather or Piñatex (a leather-like material made \n",
       "from pineapple leaf fibres) handbag and vegan trainers as a normal part of your everyday \n",
       "wardrobe.” Adidas, Stella McCartney, Lululemon and Kering (the conglomerate that owns Gucci, \n",
       "Saint Laurent, Bottega Veneta and more), invested in Mylo, a new leather-like material grown \n",
       "from mycelium found in mushrooms in 2020 so expect to see these brands bringing it to market \n",
       "more widely. Those of us for whom the bold, colour splash trend doesn’t appeal, the opposite \n",
       "end of the spectrum will also be just as fashionable thanks to the use of natural dyes. \n",
       "“We’ll be using more natural, sustainable dyeing processes as traditional dyes can be harmful\n",
       "in terms of water use and chemicals. So colours will be softer,” says Hill. Natural dyes tend\n",
       "to produce less intense colours and earthy greens, browns and yellows are more common. These \n",
       "colours also have a calming effect on us, perfect as we seek comfort in our lives. Feminine \n",
       "flushes “Women still want to be feminine,” explains Hill. So as we ditch our oversized \n",
       "tracksuits, we’ll be swinging back into brands that have elegance and femininity at their \n",
       "core. Roy believes we’ll also be embracing sex appeal: “Spring take inspirations from the \n",
       "British Regency era - think Bridgerton, and then think super sexy: from corsets to \n",
       "transparent <span style=\"color: #000000; text-decoration-color: #000000; background-color: #ffff00\">fabrics</span> and micro-minis.” The second season of Bridgerton is set to be released \n",
       "on Netflix in 2022, so expected this trend to really gather pace once a release date is \n",
       "announced. Look to British brands like Alexander McQueen and Vivienne Westwood who have \n",
       "repeatedly referenced the aristocracy. Chanel raised hemlines on its classic tweed suits for \n",
       "its spring/summer 22 catwalk and Rick Owens combined feminine, Grecian folds with sheer \n",
       "fabric and an exposed mid-drift for a look that ticked all the boxes for his upcoming \n",
       "collection.\n",
       "</pre>\n"
      ],
      "text/plain": [
       "\u001b[30;48;2;255;255;0mFashion\u001b[0m Trends 2022: How will designers help us all feel good again? Comfort is key to \n",
       "\u001b[30;48;2;255;255;0mfashion\u001b[0m rehabilitation in 2022 Few years in \u001b[30;48;2;255;255;0mfashion\u001b[0m have been quite so defined by collective \n",
       "societal experience as 2020 and 2021 and the pandemic continues to be the defining influence \n",
       "on our style. However, as we look to 2022, with hope on the horizon, we’re entering a new \n",
       "phase. \u001b[30;48;2;255;255;0mFashion\u001b[0m experts are predicting that our dressing habits next year will be dictated by \n",
       "the bittersweet emotion that is lingering in the air. \u001b[30;48;2;255;255;0mFashion\u001b[0m stylist Rebekah Roy tells \n",
       "Euronews we’ll be both looking back and looking forward: “For 2022 we are feeling nostalgia \n",
       "for better times ahead,” she says. Trend forecaster and designer Tiffany Hill agrees: “It’s \n",
       "been a challenging year and in terms of attitudes, we will want to seek comfort, healing and \n",
       "restoration. We want to feel good again.” What exactly will that look like? These are the \n",
       "2022 trends to know. Tactile \u001b[30;48;2;255;255;0mtextiles\u001b[0m The need to cocoon ourselves through difficult times \n",
       "will present itself in textures inspired by nature. From soft \u001b[30;48;2;255;255;0mfabrics\u001b[0m that bring us closer to\n",
       "the raw fibres to patterned surfaces that reflect those found in the natural world, we’ll be \n",
       "seeking solace in the feel of our clothes. Hill says: “We’ll see texture in the form of \n",
       "waffles and towelling; things to envelope and comfort us.” The trend experts at Première \n",
       "Vision, one of the \u001b[30;48;2;255;255;0mfashion\u001b[0m industry’s biggest \u001b[30;48;2;255;255;0mtextile\u001b[0m sourcing events, highlighted this as \n",
       "one of their biggest trends for autumn/winter 22 across sportswear, quilted jackets and \n",
       "puffer coats. Colour me happy On the other end of the spectrum, we’ll be celebrating newfound\n",
       "freedom with bold colours across the spectrum. Roy says: “22/23 is a colourful season. We are\n",
       "still wearing yellow as we are seeking happiness and comfort from brands and winter florals \n",
       "in orangey shades. It’s easy and fun to play with bold clashing colours; think of limes and \n",
       "mauves, and wearing monochromatic statement looks.” Head-to-toe sunshine yellow was spotted \n",
       "on the spring/summer 22 catwalks of Prada and Proenza Schouler. Fiery red dresses made a \n",
       "statement at the British \u001b[30;48;2;255;255;0mFashion\u001b[0m Awards, one of the last red carpet events of 2021, making it\n",
       "likely to trickle down into the mainstream. Maya Jama, model Kristen McMenamy and designer \n",
       "Molly Goddard were all spotted in the bold shade to warm up the winter event. Hill adds: \n",
       "“People want to dress up and be more individual and so we’ll see more colour and vibrancy and\n",
       "more confident dressing.” An eye for detail Many of us are still not quite ready to let go of\n",
       "our loungewear and minimalist chic but we will look to invest in higher quality versions of \n",
       "those pieces. Hill says it’s all about the finishing touches: “We’ll see more details such as\n",
       "hardware, contrasting trims, sophisticated branding. It will be core pieces but in more luxe,\n",
       "elevated fabrics. The shapes won’t change much but it will be those little details that add \n",
       "value to a product,” she explains. “Sustainability is key in a lot of minds so we’ll be \n",
       "looking for longevity and quality over quantity. Design will be more considered,” Hill adds. \n",
       "Look to premium brands who do simple style made well like Cos, or hip sustainability-focused \n",
       "labels like Pangaia, Nudie Jeans and Asket who make \u001b[30;48;2;255;255;0mwardrobe\u001b[0m staples designed to last. At one\n",
       "with nature \u001b[30;48;2;255;255;0mFashion\u001b[0m brands and shoppers looking to make more environmentally-conscious \n",
       "decisions continues to grow and it will affect the materials we buy. Roy says: “We are \n",
       "exploring a new future and fashion-forward thinking with sustainable \u001b[30;48;2;255;255;0mfabrics\u001b[0m and smart \n",
       "\u001b[30;48;2;255;255;0mtextiles\u001b[0m leading the way. Image a mushroom leather or Piñatex (a leather-like material made \n",
       "from pineapple leaf fibres) handbag and vegan trainers as a normal part of your everyday \n",
       "wardrobe.” Adidas, Stella McCartney, Lululemon and Kering (the conglomerate that owns Gucci, \n",
       "Saint Laurent, Bottega Veneta and more), invested in Mylo, a new leather-like material grown \n",
       "from mycelium found in mushrooms in 2020 so expect to see these brands bringing it to market \n",
       "more widely. Those of us for whom the bold, colour splash trend doesn’t appeal, the opposite \n",
       "end of the spectrum will also be just as fashionable thanks to the use of natural dyes. \n",
       "“We’ll be using more natural, sustainable dyeing processes as traditional dyes can be harmful\n",
       "in terms of water use and chemicals. So colours will be softer,” says Hill. Natural dyes tend\n",
       "to produce less intense colours and earthy greens, browns and yellows are more common. These \n",
       "colours also have a calming effect on us, perfect as we seek comfort in our lives. Feminine \n",
       "flushes “Women still want to be feminine,” explains Hill. So as we ditch our oversized \n",
       "tracksuits, we’ll be swinging back into brands that have elegance and femininity at their \n",
       "core. Roy believes we’ll also be embracing sex appeal: “Spring take inspirations from the \n",
       "British Regency era - think Bridgerton, and then think super sexy: from corsets to \n",
       "transparent \u001b[30;48;2;255;255;0mfabrics\u001b[0m and micro-minis.” The second season of Bridgerton is set to be released \n",
       "on Netflix in 2022, so expected this trend to really gather pace once a release date is \n",
       "announced. Look to British brands like Alexander McQueen and Vivienne Westwood who have \n",
       "repeatedly referenced the aristocracy. Chanel raised hemlines on its classic tweed suits for \n",
       "its spring/summer 22 catwalk and Rick Owens combined feminine, Grecian folds with sheer \n",
       "fabric and an exposed mid-drift for a look that ticked all the boxes for his upcoming \n",
       "collection.\n"
      ]
     },
     "metadata": {},
     "output_type": "display_data"
    },
    {
     "data": {
      "text/plain": [
       "[('fashion', 0.5095),\n",
       " ('textile', 0.5074),\n",
       " ('textiles', 0.4845),\n",
       " ('fabrics', 0.4527),\n",
       " ('wardrobe', 0.4086)]"
      ]
     },
     "execution_count": 24,
     "metadata": {},
     "output_type": "execute_result"
    }
   ],
   "source": [
    "kw_model.extract_keywords(article, highlight=True)"
   ]
  },
  {
   "cell_type": "code",
   "execution_count": 25,
   "id": "e9212451-c764-42c2-8e6f-5bce060c4e14",
   "metadata": {},
   "outputs": [
    {
     "data": {
      "text/plain": [
       "[('future fashion', 0.668),\n",
       " ('fashion trends', 0.5596),\n",
       " ('fashion forward', 0.555),\n",
       " ('fashion rehabilitation', 0.5478),\n",
       " ('sustainable fabrics', 0.5142)]"
      ]
     },
     "execution_count": 25,
     "metadata": {},
     "output_type": "execute_result"
    }
   ],
   "source": [
    "kw_model.extract_keywords(article, keyphrase_ngram_range=(1, 2), stop_words='english')"
   ]
  },
  {
   "cell_type": "code",
   "execution_count": 26,
   "id": "1bbf3e76-3b33-42f2-9a6d-c520246cb35a",
   "metadata": {},
   "outputs": [
    {
     "data": {
      "text/plain": [
       "[('fashion trends 2022', 0.6917),\n",
       " ('new future fashion', 0.6835),\n",
       " ('future fashion forward', 0.6745),\n",
       " ('2022 years fashion', 0.6723),\n",
       " ('future fashion', 0.668)]"
      ]
     },
     "execution_count": 26,
     "metadata": {},
     "output_type": "execute_result"
    }
   ],
   "source": [
    "kw_model.extract_keywords(article, keyphrase_ngram_range=(1, 3), stop_words='english')"
   ]
  },
  {
   "cell_type": "code",
   "execution_count": 27,
   "id": "2b0d0cc8-ce6f-40b6-85a0-31c9d8ed8e22",
   "metadata": {},
   "outputs": [
    {
     "data": {
      "text/plain": [
       "[('fashion trends 2022', 0.6917),\n",
       " ('comfort healing restoration', 0.3324),\n",
       " ('tactile textiles need', 0.4879),\n",
       " ('solace feel clothes', 0.4985),\n",
       " ('envelope comfort trend', 0.4393)]"
      ]
     },
     "execution_count": 27,
     "metadata": {},
     "output_type": "execute_result"
    }
   ],
   "source": [
    "kw_model.extract_keywords(article, keyphrase_ngram_range=(1, 3), stop_words='english', \n",
    "                              use_mmr=True)"
   ]
  },
  {
   "cell_type": "code",
   "execution_count": 28,
   "id": "745ddc82-ae37-450b-8905-1c1beb03429f",
   "metadata": {},
   "outputs": [
    {
     "data": {
      "text/plain": [
       "['exploring new future fashion forward',\n",
       " '2022 trends know tactile textiles',\n",
       " 'seek comfort healing restoration',\n",
       " 'habits year dictated bittersweet emotion',\n",
       " 'solace feel clothes']"
      ]
     },
     "execution_count": 28,
     "metadata": {},
     "output_type": "execute_result"
    }
   ],
   "source": [
    "import json\n",
    "\n",
    "def extract_keywords(path):\n",
    "    article = \"\"\n",
    "    with open(path, 'r', encoding=\"utf-8\") as file:\n",
    "        article = file.read()\n",
    "    keywds_l = kw_model.extract_keywords(article,\n",
    "                                         keyphrase_ngram_range=(1, 5),\n",
    "                                         stop_words='english',\n",
    "                                         use_mmr=True)\n",
    "    keywds = [word for (word,_) in keywds_l]\n",
    "    return keywds\n",
    "    \n",
    "extract_keywords(\"./Data/Fashion/euronews.txt\")"
   ]
  },
  {
   "cell_type": "code",
   "execution_count": null,
   "id": "635ff561-10eb-4e60-a487-9df425ccc23c",
   "metadata": {},
   "outputs": [],
   "source": []
  }
 ],
 "metadata": {
  "kernelspec": {
   "display_name": "sp-ghribi",
   "language": "python",
   "name": "sp-ghribi"
  },
  "language_info": {
   "codemirror_mode": {
    "name": "ipython",
    "version": 3
   },
   "file_extension": ".py",
   "mimetype": "text/x-python",
   "name": "python",
   "nbconvert_exporter": "python",
   "pygments_lexer": "ipython3",
   "version": "3.7.7"
  }
 },
 "nbformat": 4,
 "nbformat_minor": 5
}
